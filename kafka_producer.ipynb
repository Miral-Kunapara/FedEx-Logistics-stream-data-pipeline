{
 "cells": [
  {
   "cell_type": "code",
   "execution_count": 6,
   "metadata": {},
   "outputs": [],
   "source": [
    "from confluent_kafka import SerializingProducer\n",
    "from confluent_kafka.schema_registry import SchemaRegistryClient\n",
    "from confluent_kafka.schema_registry.avro import AvroSerializer\n",
    "from confluent_kafka.serialization import IntegerSerializer\n",
    "from confluent_kafka.serialization import StringSerializer\n",
    "import configparser as cf\n",
    "from datetime import datetime\n",
    "from logistics_data_generator import generate_logistics_data"
   ]
  },
  {
   "cell_type": "code",
   "execution_count": 7,
   "metadata": {},
   "outputs": [],
   "source": [
    "\n",
    "# Define Kafka configuration\n",
    "kafka_config = {\n",
    "    'bootstrap.servers': 'pkc-l7pr2.ap-south-1.aws.confluent.cloud:9092',\n",
    "    'sasl.mechanisms': 'PLAIN',\n",
    "    'security.protocol': 'SASL_SSL',\n",
    "    'sasl.username': '2TC7MB4C64INXCNM',\n",
    "    'sasl.password': 'bzj7MZ1TOn5rBt4Q2y+yxoitC52IXpHvhymia5Y1i3eCPH0gQzsYnNvwgcHAhRTq'\n",
    "}\n"
   ]
  },
  {
   "cell_type": "code",
   "execution_count": 8,
   "metadata": {},
   "outputs": [],
   "source": [
    "# Create a Schema Registry client\n",
    "schema_registry_client = SchemaRegistryClient({\n",
    "  'url': 'https://psrc-e8vk0.southeastasia.azure.confluent.cloud',\n",
    "  'basic.auth.user.info': '{}:{}'.format('47JJSLPLZYEJU7JL', 'LSu4H9SFe8mgNnexAoQChOpWFqDQGQFnAO4KxW4fhexLpIYv2wgwsWVN/jIEVKSK')\n",
    "})"
   ]
  },
  {
   "cell_type": "code",
   "execution_count": 9,
   "metadata": {},
   "outputs": [],
   "source": [
    "# Fetch the latest Avro schema for the value\n",
    "subject_name = 'fedex_logistics-value'\n",
    "schema_str = schema_registry_client.get_latest_version(subject_name).schema.schema_str"
   ]
  },
  {
   "cell_type": "code",
   "execution_count": 10,
   "metadata": {},
   "outputs": [],
   "source": [
    "# key_serializer = AvroSerializer(schema_registry_client=schema_registry_client, schema_str='{\"type\": \"int\"}')\n",
    "# Create Avro Serializer for the value\n",
    "key_serializer = StringSerializer()\n",
    "avro_serializer = AvroSerializer(schema_registry_client, schema_str)"
   ]
  },
  {
   "cell_type": "code",
   "execution_count": 11,
   "metadata": {},
   "outputs": [],
   "source": [
    "# Define the SerializingProducer\n",
    "producer = SerializingProducer({\n",
    "    'bootstrap.servers': kafka_config['bootstrap.servers'],\n",
    "    'security.protocol': kafka_config['security.protocol'],\n",
    "    'sasl.mechanisms': kafka_config['sasl.mechanisms'],\n",
    "    'sasl.username': kafka_config['sasl.username'],\n",
    "    'sasl.password': kafka_config['sasl.password'],\n",
    "    'key.serializer': key_serializer,  # Key will be serialized as an integer\n",
    "    'value.serializer': avro_serializer  # Value will be serialized as Avro\n",
    "})"
   ]
  },
  {
   "cell_type": "code",
   "execution_count": 13,
   "metadata": {},
   "outputs": [],
   "source": [
    "def delivery_report(err, msg):\n",
    "    \"\"\"\n",
    "    Reports the failure or success of a message delivery.\n",
    "\n",
    "    Args:\n",
    "        err (KafkaError): The error that occurred on None on success.\n",
    "        msg (Message): The message that was produced or failed.\n",
    "\n",
    "    Note:\n",
    "        In the delivery report callback the Message.key() and Message.value()\n",
    "        will be the binary format as encoded by any configured Serializers and\n",
    "        not the same object that was passed to produce().\n",
    "        If you wish to pass the original object(s) for key and value to delivery\n",
    "        report callback we recommend a bound callback or lambda where you pass\n",
    "        the objects along.\n",
    "    \"\"\"\n",
    "    if err is not None:\n",
    "        print(\"Delivery failed for record {}: {}\".format(msg.key(), err))\n",
    "        return\n",
    "    print('Record {} successfully produced to {} [{}] at offset {}'.format(\n",
    "        msg.key(), msg.topic(), msg.partition(), msg.offset()))"
   ]
  },
  {
   "cell_type": "code",
   "execution_count": null,
   "metadata": {},
   "outputs": [],
   "source": [
    "def produce_messages_to_kafka():\n",
    "    # dict_value['timestamp'] = datetime.strftime(dict_value['timestamp'], \"%Y-%m-%dT%H:%M:%SZ\")\n",
    "    for _ in range(1750):\n",
    "        dict_value = generate_logistics_data()\n",
    "        producer.produce(topic=\"fedex_logistics\",\n",
    "                         key=str(dict_value['shipment_id']),\n",
    "                         value=dict_value,\n",
    "                         on_delivery=delivery_report)\n",
    "        producer.flush()\n",
    "    print(\"Messages are produces successfully\")\n",
    "\n",
    "\n",
    "if __name__ == \"__main__\":\n",
    "    produce_messages_to_kafka()"
   ]
  }
 ],
 "metadata": {
  "kernelspec": {
   "display_name": "Python 3.10.6 64-bit",
   "language": "python",
   "name": "python3"
  },
  "language_info": {
   "codemirror_mode": {
    "name": "ipython",
    "version": 3
   },
   "file_extension": ".py",
   "mimetype": "text/x-python",
   "name": "python",
   "nbconvert_exporter": "python",
   "pygments_lexer": "ipython3",
   "version": "3.10.6"
  },
  "orig_nbformat": 4,
  "vscode": {
   "interpreter": {
    "hash": "369f2c481f4da34e4445cda3fffd2e751bd1c4d706f27375911949ba6bb62e1c"
   }
  }
 },
 "nbformat": 4,
 "nbformat_minor": 2
}
